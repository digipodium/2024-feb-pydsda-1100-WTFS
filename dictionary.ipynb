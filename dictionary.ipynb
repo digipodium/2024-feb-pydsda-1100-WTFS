{
 "cells": [
  {
   "cell_type": "code",
   "execution_count": 2,
   "metadata": {},
   "outputs": [],
   "source": [
    "data = [\n",
    "    'Words of Radiance', # title\n",
    "    'Brandon Sanderson', # author\n",
    "    '2014',              # year\n",
    "    '978-0-7653-2635-5', # isbn\n",
    "    'The Stormlight Archive', # series\n",
    "    'Epic fantasy', # genre\n",
    "    'Hardcover', # format\n",
    "    '1087', # pages\n",
    "    'Tor Books', # publisher\n",
    "]"
   ]
  },
  {
   "cell_type": "markdown",
   "metadata": {},
   "source": [
    "dictionary\n",
    "- ordered\n",
    "- mutable\n",
    "- key-value pairs {key: value}\n",
    "- keys\n",
    "    - unique\n",
    "    - immutable\n",
    "    - string, number, tuple\n",
    "- values\n",
    "    - any type\n",
    "    - duplicates allowed\n",
    "    - mutable\n",
    "- representation\n",
    "    - `{key: value}`\n",
    "    - `dict()`"
   ]
  },
  {
   "cell_type": "code",
   "execution_count": 5,
   "metadata": {},
   "outputs": [],
   "source": [
    "# key: value pair\n",
    "better_data = {\n",
    "    'title': 'Words of Radiance',\n",
    "    'author': 'Brandon Sanderson',\n",
    "    'year': '2014',\n",
    "    'isbn': '978-0-7653-2635-5',\n",
    "    'series': 'The Stormlight Archive',\n",
    "    'genre': 'Epic fantasy',\n",
    "    'format': 'Hardcover',\n",
    "    'pages': '1087',\n",
    "    'publisher': 'Tor Books',\n",
    "}"
   ]
  },
  {
   "cell_type": "code",
   "execution_count": 13,
   "metadata": {},
   "outputs": [
    {
     "name": "stdout",
     "output_type": "stream",
     "text": [
      "Words of Radiance\n",
      "1087\n",
      "Epic fantasy Hardcover\n",
      "None\n",
      "Brandon Sanderson\n",
      "Words of Radiance\n"
     ]
    }
   ],
   "source": [
    "print(better_data['title']) # python will look for title in dictionary\n",
    "print(better_data['pages'])\n",
    "print(better_data['genre'], better_data['format'])\n",
    "print(better_data.get('writer'))\n",
    "print(better_data.get('author'))\n",
    "print(better_data.get('title'))"
   ]
  },
  {
   "cell_type": "code",
   "execution_count": null,
   "metadata": {},
   "outputs": [],
   "source": []
  }
 ],
 "metadata": {
  "kernelspec": {
   "display_name": "base",
   "language": "python",
   "name": "python3"
  },
  "language_info": {
   "codemirror_mode": {
    "name": "ipython",
    "version": 3
   },
   "file_extension": ".py",
   "mimetype": "text/x-python",
   "name": "python",
   "nbconvert_exporter": "python",
   "pygments_lexer": "ipython3",
   "version": "3.11.7"
  }
 },
 "nbformat": 4,
 "nbformat_minor": 2
}
