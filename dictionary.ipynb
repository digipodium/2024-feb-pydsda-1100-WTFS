{
 "cells": [
  {
   "cell_type": "code",
   "execution_count": null,
   "metadata": {},
   "outputs": [],
   "source": [
    "data = [\n",
    "    'Words of Radiance', # title\n",
    "    'Brandon Sanderson', # author\n",
    "    '2014',              # year\n",
    "    '978-0-7653-2635-5', # isbn\n",
    "    'The Stormlight Archive', # series\n",
    "    'Epic fantasy', # genre\n",
    "    'Hardcover', # format\n",
    "    '1087', # pages\n",
    "    'Tor Books', # publisher\n",
    "]"
   ]
  },
  {
   "cell_type": "markdown",
   "metadata": {},
   "source": [
    "dictionary\n",
    "- ordered\n",
    "- mutable\n",
    "- key-value pairs {key: value}\n",
    "- keys\n",
    "    - unique\n",
    "    - immutable\n",
    "    - string, number, tuple\n",
    "- values\n",
    "    - any type\n",
    "    - duplicates allowed\n",
    "    - mutable\n",
    "- representation\n",
    "    - `{key: value}`\n",
    "    - `dict()`"
   ]
  },
  {
   "cell_type": "code",
   "execution_count": null,
   "metadata": {},
   "outputs": [],
   "source": [
    "# key: value pair\n",
    "better_data = {\n",
    "    'title': 'Words of Radiance',\n",
    "    'author': 'Brandon Sanderson',\n",
    "    'year': '2014',\n",
    "    'isbn': '978-0-7653-2635-5',\n",
    "    'series': 'The Stormlight Archive',\n",
    "    'genre': 'Epic fantasy',\n",
    "    'format': 'Hardcover',\n",
    "    'pages': '1087',\n",
    "    'publisher': 'Tor Books',\n",
    "}"
   ]
  },
  {
   "cell_type": "code",
   "execution_count": null,
   "metadata": {},
   "outputs": [],
   "source": [
    "print(better_data['title']) # python will look for title in dictionary\n",
    "print(better_data['pages'])\n",
    "print(better_data['genre'], better_data['format'])\n",
    "print(better_data.get('writer'))\n",
    "print(better_data.get('author'))\n",
    "print(better_data.get('title'))"
   ]
  },
  {
   "cell_type": "code",
   "execution_count": null,
   "metadata": {},
   "outputs": [],
   "source": [
    "student = {\n",
    "    'name': 'John',\n",
    "    'age': 25,\n",
    "    'courses': ['Math', 'CompSci']\n",
    "}"
   ]
  },
  {
   "cell_type": "markdown",
   "metadata": {},
   "source": [
    "traverse dictionary\n",
    "- normal -> give only keys\n",
    "- using items - give key-value pairs"
   ]
  },
  {
   "cell_type": "code",
   "execution_count": null,
   "metadata": {},
   "outputs": [],
   "source": [
    "for i in student:\n",
    "    print(i)"
   ]
  },
  {
   "cell_type": "code",
   "execution_count": null,
   "metadata": {},
   "outputs": [],
   "source": [
    "for k, v in student.items():\n",
    "    print(f'{k} => {v}')"
   ]
  },
  {
   "cell_type": "markdown",
   "metadata": {},
   "source": [
    "update a value"
   ]
  },
  {
   "cell_type": "code",
   "execution_count": null,
   "metadata": {},
   "outputs": [],
   "source": [
    "student['name'] = 'John Cena' # existing key is to update value\n",
    "student"
   ]
  },
  {
   "cell_type": "markdown",
   "metadata": {},
   "source": [
    "adding a new value"
   ]
  },
  {
   "cell_type": "code",
   "execution_count": null,
   "metadata": {},
   "outputs": [],
   "source": [
    "student['college'] = 'ABCDU' # new key is to add value\n",
    "student"
   ]
  },
  {
   "cell_type": "markdown",
   "metadata": {},
   "source": [
    "adding a new value through user"
   ]
  },
  {
   "cell_type": "code",
   "execution_count": null,
   "metadata": {},
   "outputs": [],
   "source": [
    "rollno = input('Enter roll no: ')\n",
    "student['rollno'] = rollno    "
   ]
  },
  {
   "cell_type": "markdown",
   "metadata": {},
   "source": [
    "removing a value - `pop(key)`"
   ]
  },
  {
   "cell_type": "code",
   "execution_count": null,
   "metadata": {},
   "outputs": [],
   "source": [
    "student.pop('age')"
   ]
  },
  {
   "cell_type": "markdown",
   "metadata": {},
   "source": [
    "extracting keys and values"
   ]
  },
  {
   "cell_type": "code",
   "execution_count": null,
   "metadata": {},
   "outputs": [],
   "source": [
    "student.keys()"
   ]
  },
  {
   "cell_type": "code",
   "execution_count": null,
   "metadata": {},
   "outputs": [],
   "source": [
    "student.values()"
   ]
  },
  {
   "cell_type": "code",
   "execution_count": null,
   "metadata": {},
   "outputs": [],
   "source": [
    "student.items()"
   ]
  },
  {
   "cell_type": "code",
   "execution_count": null,
   "metadata": {},
   "outputs": [],
   "source": []
  }
 ],
 "metadata": {
  "kernelspec": {
   "display_name": "base",
   "language": "python",
   "name": "python3"
  },
  "language_info": {
   "codemirror_mode": {
    "name": "ipython",
    "version": 3
   },
   "file_extension": ".py",
   "mimetype": "text/x-python",
   "name": "python",
   "nbconvert_exporter": "python",
   "pygments_lexer": "ipython3",
   "version": "3.11.7"
  }
 },
 "nbformat": 4,
 "nbformat_minor": 2
}
