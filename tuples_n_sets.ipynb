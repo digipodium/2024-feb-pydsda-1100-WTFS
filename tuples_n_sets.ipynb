{
 "cells": [
  {
   "cell_type": "markdown",
   "metadata": {},
   "source": [
    "- tuple\n",
    "    - immutable\n",
    "    - indexed , ordered\n",
    "    - heterogenous\n",
    "    - parenthesis `()`\n",
    "    - python's default data structure\n",
    "\n",
    "- set\n",
    "    - mutable\n",
    "    - unique elements only\n",
    "    - unordered\n",
    "    - can only hold immutable elements\n",
    "    - curly braces `{}`\n",
    "    - used for set operations : union, intersection, difference"
   ]
  },
  {
   "cell_type": "code",
   "execution_count": null,
   "metadata": {},
   "outputs": [],
   "source": [
    "a = 1, 2, 3, 4, 5, 5\n",
    "print(a)"
   ]
  },
  {
   "cell_type": "code",
   "execution_count": null,
   "metadata": {},
   "outputs": [],
   "source": [
    "x = ('a','b','c','d')\n",
    "print(x)"
   ]
  },
  {
   "cell_type": "code",
   "execution_count": null,
   "metadata": {},
   "outputs": [],
   "source": [
    "for i in x:\n",
    "    print(i)"
   ]
  },
  {
   "cell_type": "code",
   "execution_count": null,
   "metadata": {},
   "outputs": [],
   "source": [
    "print(x[0]) # indexing index 0\n",
    "print(x[1]) #  index 1\n",
    "print(x[-1]) # last index"
   ]
  },
  {
   "cell_type": "code",
   "execution_count": null,
   "metadata": {},
   "outputs": [],
   "source": [
    "a[:3] # first 3 elements"
   ]
  },
  {
   "cell_type": "code",
   "execution_count": null,
   "metadata": {},
   "outputs": [],
   "source": [
    "a[0] = 5 # throws error because tuple is immutable"
   ]
  },
  {
   "cell_type": "code",
   "execution_count": null,
   "metadata": {},
   "outputs": [],
   "source": [
    "# type casting \n",
    "x = [1,2,3,4,5]\n",
    "print(x)\n",
    "xt = tuple(x) # type casting list -> tuple\n",
    "print(xt)\n",
    "xl = list(xt) # type casting tuple -> list\n",
    "print(xl)"
   ]
  },
  {
   "cell_type": "code",
   "execution_count": null,
   "metadata": {},
   "outputs": [],
   "source": [
    "# tuple unpacking -> assigning values to multiple variables\n",
    "x = (210, 3.14, 'hello')\n",
    "print(x)\n",
    "a, b, c = x\n",
    "print(f'a = {a}, b = {b}, c = {c}')"
   ]
  },
  {
   "cell_type": "markdown",
   "metadata": {},
   "source": [
    "set\n",
    "- set is a collection of unique elements"
   ]
  },
  {
   "cell_type": "code",
   "execution_count": null,
   "metadata": {},
   "outputs": [],
   "source": [
    "a = {1,2,3,4,5,6,1,2,3,4} # only holds unique values\n",
    "print(a)"
   ]
  },
  {
   "cell_type": "code",
   "execution_count": null,
   "metadata": {},
   "outputs": [],
   "source": [
    "a.add(7) # if value is not present, adds to set\n",
    "a.add(4) # if value is present, does nothing\n",
    "print(a)\n",
    "a.discard(4) # removes 4 from set, if not present, does nothing\n",
    "a.update({5,6,7,8,9}) # adds multiple values to set\n",
    "a.update([21,22,23]) # adds multiple values to set\n",
    "print(a)"
   ]
  },
  {
   "cell_type": "code",
   "execution_count": null,
   "metadata": {},
   "outputs": [],
   "source": [
    "# traverse set\n",
    "for i in a:\n",
    "    print(i, end=' ')"
   ]
  },
  {
   "cell_type": "code",
   "execution_count": null,
   "metadata": {},
   "outputs": [],
   "source": [
    "# set operations\n",
    "# A U B -> A.union(B)\n",
    "a = {'apple','google','microsoft'}\n",
    "b = {'google','apple','facebook','tesla'}\n",
    "print(a.union(b))\n",
    "print(a | b) # union operator"
   ]
  },
  {
   "cell_type": "code",
   "execution_count": null,
   "metadata": {},
   "outputs": [],
   "source": [
    "# intersection  -> A.intersection(B)\n",
    "print(a.intersection(b))\n",
    "print(a & b) # intersection operator"
   ]
  },
  {
   "cell_type": "code",
   "execution_count": 31,
   "metadata": {},
   "outputs": [
    {
     "name": "stdout",
     "output_type": "stream",
     "text": [
      "{'microsoft'}\n",
      "{'microsoft'}\n",
      "{'tesla', 'facebook'}\n",
      "set()\n"
     ]
    }
   ],
   "source": [
    "# difference -> A.difference(B)\n",
    "print(a.difference(b))\n",
    "c = {'google','apple','microsoft'}\n",
    "print(a - b) # difference operator - unique elements in a only\n",
    "print(b - a) # unique elements in b only\n",
    "print(c - a) # unique elements in c only"
   ]
  },
  {
   "cell_type": "code",
   "execution_count": 32,
   "metadata": {},
   "outputs": [
    {
     "name": "stdout",
     "output_type": "stream",
     "text": [
      "{'microsoft', 'tesla', 'facebook'}\n",
      "{'microsoft', 'tesla', 'facebook'}\n"
     ]
    }
   ],
   "source": [
    "# symmetric difference -> A.symmetric_difference(B)\n",
    "print(a.symmetric_difference(b))\n",
    "print(a ^ b) # symmetric difference operator (leave the common out)"
   ]
  },
  {
   "cell_type": "markdown",
   "metadata": {},
   "source": [
    "#### questions that has set usage"
   ]
  },
  {
   "cell_type": "code",
   "execution_count": 34,
   "metadata": {},
   "outputs": [
    {
     "name": "stdout",
     "output_type": "stream",
     "text": [
      "[12, 34, 56, 78, 12, 34, 56, 78, 90, 12, 34, 56, 78, 90]\n",
      "[34, 12, 78, 56, 90]\n"
     ]
    }
   ],
   "source": [
    "# wap to remove duplicates from a list\n",
    "x = [12,34,56,78,12,34,56,78,90,12,34,56,78,90]\n",
    "print(x)\n",
    "x = list(set(x))\n",
    "print(x)"
   ]
  },
  {
   "cell_type": "code",
   "execution_count": 35,
   "metadata": {},
   "outputs": [
    {
     "name": "stdout",
     "output_type": "stream",
     "text": [
      "[5, 6, 7, 8, 9]\n"
     ]
    }
   ],
   "source": [
    "# wap to find common elements between two lists\n",
    "x = [1,2,3,4,5,6,7,8,9]\n",
    "y = [5,6,7,8,9,10,11,12,13]\n",
    "x = set(x)\n",
    "y = set(y)\n",
    "print(list(x.intersection(y)))\n"
   ]
  },
  {
   "cell_type": "code",
   "execution_count": null,
   "metadata": {},
   "outputs": [],
   "source": []
  }
 ],
 "metadata": {
  "kernelspec": {
   "display_name": "base",
   "language": "python",
   "name": "python3"
  },
  "language_info": {
   "codemirror_mode": {
    "name": "ipython",
    "version": 3
   },
   "file_extension": ".py",
   "mimetype": "text/x-python",
   "name": "python",
   "nbconvert_exporter": "python",
   "pygments_lexer": "ipython3",
   "version": "3.11.7"
  }
 },
 "nbformat": 4,
 "nbformat_minor": 2
}
