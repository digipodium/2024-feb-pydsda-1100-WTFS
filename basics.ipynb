{
 "cells": [
  {
   "cell_type": "code",
   "execution_count": null,
   "metadata": {},
   "outputs": [],
   "source": [
    "a = 23\n",
    "b = 3.111\n",
    "c = \"hello\"\n",
    "d = True\n",
    "e = None"
   ]
  },
  {
   "cell_type": "code",
   "execution_count": null,
   "metadata": {},
   "outputs": [],
   "source": [
    "fruits = [\"apple\", \"banana\", \"cherry\"]\n",
    "coords = (3, 3, 2) \n",
    "items = {12,5,2,12,3}\n",
    "person = {\"name\": \"John\", \"age\": 36, \"country\": \"Norway\"}"
   ]
  },
  {
   "cell_type": "code",
   "execution_count": null,
   "metadata": {},
   "outputs": [],
   "source": [
    "10//3"
   ]
  },
  {
   "cell_type": "code",
   "execution_count": null,
   "metadata": {},
   "outputs": [],
   "source": [
    "x = 5\n",
    "x < 10 and x > 3"
   ]
  },
  {
   "cell_type": "code",
   "execution_count": null,
   "metadata": {},
   "outputs": [],
   "source": [
    "a = [2,5,6,12,11,21,22,51]"
   ]
  },
  {
   "cell_type": "code",
   "execution_count": null,
   "metadata": {},
   "outputs": [],
   "source": [
    "11 in a"
   ]
  },
  {
   "cell_type": "markdown",
   "metadata": {},
   "source": [
    "input and output"
   ]
  },
  {
   "cell_type": "code",
   "execution_count": 6,
   "metadata": {},
   "outputs": [],
   "source": [
    "name = input('Enter name')\n",
    "college = input(\"College name\")\n",
    "age = int(input('age')) # int casting\n",
    "height = float(input('height')) # float casting"
   ]
  },
  {
   "cell_type": "code",
   "execution_count": 11,
   "metadata": {},
   "outputs": [
    {
     "name": "stdout",
     "output_type": "stream",
     "text": [
      "Your details\n",
      "Alexa\n",
      "BBDC\n",
      "Age 21\n",
      "Height 5.9 ft\n"
     ]
    }
   ],
   "source": [
    "print(\"Your details\")\n",
    "print(name)\n",
    "print(college)\n",
    "print('Age', age)\n",
    "print('Height', height, 'ft')"
   ]
  },
  {
   "cell_type": "code",
   "execution_count": 16,
   "metadata": {},
   "outputs": [
    {
     "name": "stdout",
     "output_type": "stream",
     "text": [
      "Name: Alexa | College: BBDC | Age: 21\n"
     ]
    }
   ],
   "source": [
    "print('Name:',name, '| College:', college, '| Age:', age)"
   ]
  },
  {
   "cell_type": "code",
   "execution_count": 18,
   "metadata": {},
   "outputs": [
    {
     "name": "stdout",
     "output_type": "stream",
     "text": [
      "My name is Alexa, I am 21 years old\n"
     ]
    }
   ],
   "source": [
    "print(f'My name is {name}, I am {age} years old')"
   ]
  },
  {
   "cell_type": "code",
   "execution_count": 20,
   "metadata": {},
   "outputs": [
    {
     "name": "stdout",
     "output_type": "stream",
     "text": [
      "Principal = 200000\n",
      "Rate = 1.23\n",
      "Time = 10\n",
      "--------------------\n",
      "➡️Simple Interest = 24600.0\n"
     ]
    }
   ],
   "source": [
    "p = int(input('Enter a number'))\n",
    "r = float(input('Enter rate'))\n",
    "t = int(input('Enter time'))\n",
    "si = p*r*t/100\n",
    "print(f'➡️Principal = {p}')\n",
    "print(f'➡️Rate = {r}')\n",
    "print(f'➡️Time = {t}')\n",
    "print('--'*10)\n",
    "print(f'➡️Simple Interest = {si}')"
   ]
  },
  {
   "cell_type": "code",
   "execution_count": null,
   "metadata": {},
   "outputs": [],
   "source": []
  }
 ],
 "metadata": {
  "kernelspec": {
   "display_name": "base",
   "language": "python",
   "name": "python3"
  },
  "language_info": {
   "codemirror_mode": {
    "name": "ipython",
    "version": 3
   },
   "file_extension": ".py",
   "mimetype": "text/x-python",
   "name": "python",
   "nbconvert_exporter": "python",
   "pygments_lexer": "ipython3",
   "version": "3.11.7"
  }
 },
 "nbformat": 4,
 "nbformat_minor": 2
}
