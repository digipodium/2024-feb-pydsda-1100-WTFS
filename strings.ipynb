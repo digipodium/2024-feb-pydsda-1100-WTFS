{
 "cells": [
  {
   "cell_type": "code",
   "execution_count": null,
   "metadata": {},
   "outputs": [],
   "source": [
    "name = \"Vijay Deenanath Chauhan\"\n",
    "print(name)\n",
    "print(len(name))"
   ]
  },
  {
   "cell_type": "code",
   "execution_count": null,
   "metadata": {},
   "outputs": [],
   "source": [
    "middle_name = name[6:15]\n",
    "print(middle_name)\n",
    "first_name = name[:5] # 0 is skipped\n",
    "print(first_name)\n",
    "last_name = name[16:] # last index is skipped\n",
    "print(last_name)\n",
    "last_name = name[-7:] # last 7 characters\n",
    "print(last_name)"
   ]
  },
  {
   "cell_type": "code",
   "execution_count": null,
   "metadata": {},
   "outputs": [],
   "source": [
    "sentence = 'The quick brown fox jumps over the lazy dog'\n",
    "f15 = sentence[:15]\n",
    "print(f15)\n",
    "l5 = sentence[-5:] # last 5 characters\n",
    "print(l5)"
   ]
  },
  {
   "cell_type": "code",
   "execution_count": null,
   "metadata": {},
   "outputs": [],
   "source": [
    "amt = '$3000'\n",
    "cleaned = amt[1:]\n",
    "int(cleaned)"
   ]
  },
  {
   "cell_type": "code",
   "execution_count": null,
   "metadata": {},
   "outputs": [],
   "source": [
    "username = '@Champion🎉😭'\n",
    "print(username[1:-2]) # leave the first char and last 2 char"
   ]
  },
  {
   "cell_type": "markdown",
   "metadata": {},
   "source": [
    "slicing syntax\n",
    "```\n",
    "str[start:stop:step]\n",
    "```"
   ]
  },
  {
   "cell_type": "code",
   "execution_count": null,
   "metadata": {},
   "outputs": [],
   "source": [
    "name[:15:2]"
   ]
  },
  {
   "cell_type": "code",
   "execution_count": null,
   "metadata": {},
   "outputs": [],
   "source": [
    "name[::2] # every 2nd character"
   ]
  },
  {
   "cell_type": "code",
   "execution_count": null,
   "metadata": {},
   "outputs": [],
   "source": [
    "# reverse\n",
    "name[::-1]"
   ]
  },
  {
   "cell_type": "markdown",
   "metadata": {},
   "source": [
    "methods: are functions related to a specific object (variable)"
   ]
  },
  {
   "cell_type": "code",
   "execution_count": null,
   "metadata": {},
   "outputs": [],
   "source": [
    "print()"
   ]
  },
  {
   "cell_type": "code",
   "execution_count": null,
   "metadata": {},
   "outputs": [],
   "source": [
    "a = 'apple'"
   ]
  },
  {
   "cell_type": "code",
   "execution_count": null,
   "metadata": {},
   "outputs": [],
   "source": [
    "a.upper()"
   ]
  },
  {
   "cell_type": "markdown",
   "metadata": {},
   "source": [
    "string formatting\n",
    "- upper()\n",
    "- lower()\n",
    "- captalize()"
   ]
  },
  {
   "cell_type": "code",
   "execution_count": null,
   "metadata": {},
   "outputs": [],
   "source": [
    "msg = 'Journey before destination'\n",
    "msg2 = msg.upper()\n",
    "msg3 = msg.lower()\n",
    "msg4 = msg.capitalize()\n",
    "print(\"original\",msg)\n",
    "print(\"upper\",msg2)\n",
    "print(\"lower\",msg3)\n",
    "print(\"capitalize\",msg4)"
   ]
  },
  {
   "cell_type": "markdown",
   "metadata": {},
   "source": [
    "searching and replacing\n",
    "- find() or index()\n",
    "- replace()"
   ]
  },
  {
   "cell_type": "code",
   "execution_count": null,
   "metadata": {},
   "outputs": [],
   "source": [
    "word = \"the quick brown fox jumps over the lazy dog\"\n",
    "print(word.find('own fox'))\n",
    "print(word.find('fox'))\n",
    "print(word.find('the'))\n",
    "print(word.find('bear')) # not found"
   ]
  },
  {
   "cell_type": "code",
   "execution_count": null,
   "metadata": {},
   "outputs": [],
   "source": [
    "word = \"the quick brown fox jumps over the lazy dog\"\n",
    "word2 = word.replace('fox', 'elephant')\n",
    "word3 = word.replace('o','a')\n",
    "word4 = word.replace('fox','elephant').replace('lazy','crazy').replace('brown','green')\n",
    "print(word)\n",
    "print(word2)\n",
    "print(word3)\n",
    "print(word4)"
   ]
  },
  {
   "cell_type": "markdown",
   "metadata": {},
   "source": [
    "- count() \n",
    "- split() \n",
    "- join()"
   ]
  },
  {
   "cell_type": "code",
   "execution_count": null,
   "metadata": {},
   "outputs": [],
   "source": [
    "word.count('fx')"
   ]
  },
  {
   "cell_type": "code",
   "execution_count": 39,
   "metadata": {},
   "outputs": [
    {
     "data": {
      "text/plain": [
       "['the', 'quick', 'brown', 'fox', 'jumps', 'over', 'the', 'lazy', 'dog']"
      ]
     },
     "execution_count": 39,
     "metadata": {},
     "output_type": "execute_result"
    }
   ],
   "source": [
    "word.split()"
   ]
  },
  {
   "cell_type": "code",
   "execution_count": 42,
   "metadata": {},
   "outputs": [
    {
     "data": {
      "text/plain": [
       "['John Cena', '45', 'New York']"
      ]
     },
     "execution_count": 42,
     "metadata": {},
     "output_type": "execute_result"
    }
   ],
   "source": [
    "msg= 'John Cena, 45, New York'\n",
    "msg.split(\", \")"
   ]
  },
  {
   "cell_type": "code",
   "execution_count": 44,
   "metadata": {},
   "outputs": [
    {
     "name": "stdout",
     "output_type": "stream",
     "text": [
      "Johny Johny, Yes Papa\n",
      "Eating sugar? No Papa\n",
      "Telling lies? No Papa\n",
      "Open your mouth, Ha! Ha! Ha!\n",
      "\n",
      "['Johny Johny, Yes Papa', 'Eating sugar? No Papa', 'Telling lies? No Papa', 'Open your mouth, Ha! Ha! Ha!']\n"
     ]
    }
   ],
   "source": [
    "poem = '''Johny Johny, Yes Papa\n",
    "Eating sugar? No Papa\n",
    "Telling lies? No Papa\n",
    "Open your mouth, Ha! Ha! Ha!\n",
    "'''\n",
    "print(poem)\n",
    "print(poem.splitlines())"
   ]
  },
  {
   "cell_type": "markdown",
   "metadata": {},
   "source": [
    "Validation functions\n",
    "\n",
    "- endswith\n",
    "- startswith\n",
    "- isalpha\n",
    "- isnunmeric"
   ]
  },
  {
   "cell_type": "code",
   "execution_count": 52,
   "metadata": {},
   "outputs": [
    {
     "name": "stdout",
     "output_type": "stream",
     "text": [
      "True\n",
      "False\n",
      "True\n",
      "False\n"
     ]
    }
   ],
   "source": [
    "file = 'hello.mp4'\n",
    "print(file.endswith('.mp4'))\n",
    "print(file.endswith('.m4'))\n",
    "print(file.endswith('mp4'))\n",
    "print(file.endswith('.mp3'))"
   ]
  },
  {
   "cell_type": "code",
   "execution_count": null,
   "metadata": {},
   "outputs": [],
   "source": []
  }
 ],
 "metadata": {
  "kernelspec": {
   "display_name": "base",
   "language": "python",
   "name": "python3"
  },
  "language_info": {
   "codemirror_mode": {
    "name": "ipython",
    "version": 3
   },
   "file_extension": ".py",
   "mimetype": "text/x-python",
   "name": "python",
   "nbconvert_exporter": "python",
   "pygments_lexer": "ipython3",
   "version": "3.11.7"
  }
 },
 "nbformat": 4,
 "nbformat_minor": 2
}
