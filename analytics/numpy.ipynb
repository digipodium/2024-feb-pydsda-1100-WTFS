{
 "cells": [
  {
   "cell_type": "code",
   "execution_count": null,
   "metadata": {},
   "outputs": [],
   "source": [
    "import numpy as np"
   ]
  },
  {
   "cell_type": "markdown",
   "metadata": {},
   "source": [
    "- create\n",
    "- properties\n",
    "- operations and methods"
   ]
  },
  {
   "cell_type": "code",
   "execution_count": null,
   "metadata": {},
   "outputs": [],
   "source": [
    "x1 = np.array([1,3,4])\n",
    "print(x1)\n",
    "print(x1.shape)\n",
    "print(x1.size)\n",
    "print(x1.ndim)\n",
    "\n",
    "x2 = np.array([\n",
    "    [1,2,3,5],\n",
    "    [4,5,6,2]\n",
    "])\n",
    "print(x2)\n",
    "print(x2.shape)\n",
    "print(x2.size)\n",
    "print(x2.ndim)"
   ]
  },
  {
   "cell_type": "code",
   "execution_count": null,
   "metadata": {},
   "outputs": [],
   "source": [
    "a = np.arange(1, 11, .25)\n",
    "print(a)\n",
    "print('shape=>',a.shape, \"size=>\",a.size, \"dimension=>\",a.ndim)"
   ]
  },
  {
   "cell_type": "code",
   "execution_count": null,
   "metadata": {},
   "outputs": [],
   "source": [
    "b = np.linspace(1, 10, 20)\n",
    "print(b)\n",
    "print('shape=>',b.shape, \"size=>\",b.size, \"dimension=>\",b.ndim)"
   ]
  },
  {
   "cell_type": "code",
   "execution_count": null,
   "metadata": {},
   "outputs": [],
   "source": [
    "c = np.random.randint(-5, 6, (5,5)) # 5x5 matrix in range of -5 to 5\n",
    "print(c)"
   ]
  },
  {
   "cell_type": "code",
   "execution_count": null,
   "metadata": {},
   "outputs": [],
   "source": [
    "# check datatype of array elements\n",
    "print(c.dtype)"
   ]
  },
  {
   "cell_type": "code",
   "execution_count": null,
   "metadata": {},
   "outputs": [],
   "source": [
    "# converting shape of array (changing dimension)\n",
    "b.reshape(4, 5)"
   ]
  },
  {
   "cell_type": "code",
   "execution_count": null,
   "metadata": {},
   "outputs": [],
   "source": [
    "# converting n-dim array to 1-dim array\n",
    "c.flatten()"
   ]
  },
  {
   "cell_type": "markdown",
   "metadata": {},
   "source": [
    "operations"
   ]
  },
  {
   "cell_type": "code",
   "execution_count": null,
   "metadata": {},
   "outputs": [],
   "source": [
    "a = np.array([1,2,3,4,5,6]).reshape(2,3)\n",
    "b = np.array([5,2,1,2,2,6]).reshape(2,3)\n",
    "print(a)\n",
    "print(b)\n",
    "print('element-wise addition')\n",
    "ans = a + b\n",
    "print(ans)\n",
    "print('element-wise subtraction')\n",
    "ans = a - b\n",
    "print(ans)\n",
    "print('element-wise multiplication')\n",
    "ans = a * b\n",
    "print(ans)"
   ]
  },
  {
   "cell_type": "code",
   "execution_count": null,
   "metadata": {},
   "outputs": [],
   "source": [
    "# matrix multiplication - dot product\n",
    "a = np.array([1,2,3,4,5,6]).reshape(2,3)\n",
    "b = np.array([5,2,1,2,2,6]).reshape(3,2)\n",
    "print(a)\n",
    "print(b)\n",
    "c = a@b # or np.dot(a, b)\n",
    "print(c)"
   ]
  },
  {
   "cell_type": "code",
   "execution_count": null,
   "metadata": {},
   "outputs": [],
   "source": [
    "#  transpose of matrix\n",
    "print(a)\n",
    "print(a.T)"
   ]
  },
  {
   "cell_type": "code",
   "execution_count": null,
   "metadata": {},
   "outputs": [],
   "source": [
    "# statistical operations\n",
    "print(a)\n",
    "print(a.sum()) # all item\n",
    "print(a.sum(axis=1)) # row-wise sum\n",
    "print(a.sum(axis=0)) # col-wise sum\n",
    "\n",
    "# same logic can be applied to functions\n",
    "print(a.mean())\n",
    "print(a.mean(axis=1))\n",
    "print(a.mean(axis=0))\n",
    "\n",
    "# min, max, argmin, argmax, std, var, cumsum, cumprod"
   ]
  },
  {
   "cell_type": "markdown",
   "metadata": {},
   "source": [
    "slicing"
   ]
  },
  {
   "cell_type": "code",
   "execution_count": null,
   "metadata": {},
   "outputs": [],
   "source": [
    "x = np.linspace(10,99, 100).reshape(10, 10).astype(int)\n",
    "print(x)"
   ]
  },
  {
   "cell_type": "markdown",
   "metadata": {},
   "source": [
    "1D slicing\n",
    "\n",
    "`x[start : stop : step]`\n",
    "\n",
    "2D slicing\n",
    "\n",
    "`x[rstart : rstop : rstep, cstart : cstop : cstep]`\n",
    "\n",
    "example\n",
    "`x[1:5, :6]`\n",
    "get me the rows from 1st index to 4th index and first 6 columns"
   ]
  },
  {
   "cell_type": "code",
   "execution_count": null,
   "metadata": {},
   "outputs": [],
   "source": [
    "print(x[1:5, :6])"
   ]
  },
  {
   "cell_type": "code",
   "execution_count": null,
   "metadata": {},
   "outputs": [],
   "source": [
    "# 3rd row\n",
    "print(x[2])\n",
    "# last row\n",
    "print(x[-1])\n",
    "# first col\n",
    "print(x[:, 0])\n",
    "# 2nd col\n",
    "print(x[:, 1])\n",
    "# last col\n",
    "print(x[:, -1])\n",
    "\n",
    "# last 3 cols\n",
    "print(x[:, -3:])\n",
    "\n",
    "# first 3 cols\n",
    "print(x[:, :3])"
   ]
  },
  {
   "cell_type": "code",
   "execution_count": null,
   "metadata": {},
   "outputs": [],
   "source": []
  }
 ],
 "metadata": {
  "kernelspec": {
   "display_name": "base",
   "language": "python",
   "name": "python3"
  },
  "language_info": {
   "codemirror_mode": {
    "name": "ipython",
    "version": 3
   },
   "file_extension": ".py",
   "mimetype": "text/x-python",
   "name": "python",
   "nbconvert_exporter": "python",
   "pygments_lexer": "ipython3",
   "version": "3.11.7"
  }
 },
 "nbformat": 4,
 "nbformat_minor": 2
}
